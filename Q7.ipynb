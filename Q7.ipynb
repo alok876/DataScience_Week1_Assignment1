{
 "cells": [
  {
   "cell_type": "code",
   "execution_count": 1,
   "id": "5f48318c-3e73-491e-96be-883a4469e40e",
   "metadata": {},
   "outputs": [],
   "source": [
    "# immutable data types are those whose values cannot be changed like strings\n",
    "# mutable data types are those whose values can be changed like list\n",
    "\n",
    "list = [1,True,3,\"Alok\",5,6,2.33,8,9,10]\n",
    "a  = \"Alok\"\n"
   ]
  },
  {
   "cell_type": "code",
   "execution_count": 3,
   "id": "6e2f7c3f-b0e7-43ab-a6e8-a67bf6b6455e",
   "metadata": {},
   "outputs": [
    {
     "data": {
      "text/plain": [
       "1"
      ]
     },
     "execution_count": 3,
     "metadata": {},
     "output_type": "execute_result"
    }
   ],
   "source": [
    "list[0]"
   ]
  },
  {
   "cell_type": "code",
   "execution_count": 4,
   "id": "b76180f7-f38b-403a-b043-9cffedf04808",
   "metadata": {},
   "outputs": [
    {
     "data": {
      "text/plain": [
       "'A'"
      ]
     },
     "execution_count": 4,
     "metadata": {},
     "output_type": "execute_result"
    }
   ],
   "source": [
    "a[0]"
   ]
  },
  {
   "cell_type": "code",
   "execution_count": 6,
   "id": "39dfa753-3f1c-40d2-8e4d-007cd15f8385",
   "metadata": {},
   "outputs": [],
   "source": [
    "list[0] = \"me\"\n"
   ]
  },
  {
   "cell_type": "code",
   "execution_count": 7,
   "id": "5b53125b-dc41-4b7b-b31c-855d6fa27995",
   "metadata": {},
   "outputs": [
    {
     "data": {
      "text/plain": [
       "['me', True, 3, 'Alok', 5, 6, 2.33, 8, 9, 10]"
      ]
     },
     "execution_count": 7,
     "metadata": {},
     "output_type": "execute_result"
    }
   ],
   "source": [
    "list"
   ]
  },
  {
   "cell_type": "code",
   "execution_count": 8,
   "id": "f29a71c0-cbaa-4e54-8fc0-f14b8d4c6c55",
   "metadata": {},
   "outputs": [
    {
     "ename": "TypeError",
     "evalue": "'str' object does not support item assignment",
     "output_type": "error",
     "traceback": [
      "\u001b[1;31m---------------------------------------------------------------------------\u001b[0m",
      "\u001b[1;31mTypeError\u001b[0m                                 Traceback (most recent call last)",
      "Cell \u001b[1;32mIn[8], line 1\u001b[0m\n\u001b[1;32m----> 1\u001b[0m \u001b[43ma\u001b[49m\u001b[43m[\u001b[49m\u001b[38;5;241;43m0\u001b[39;49m\u001b[43m]\u001b[49m \u001b[38;5;241m=\u001b[39m \u001b[38;5;124m\"\u001b[39m\u001b[38;5;124mme\u001b[39m\u001b[38;5;124m\"\u001b[39m\n",
      "\u001b[1;31mTypeError\u001b[0m: 'str' object does not support item assignment"
     ]
    }
   ],
   "source": [
    "a[0] = \"me\""
   ]
  },
  {
   "cell_type": "code",
   "execution_count": null,
   "id": "8e9876bc-38dd-4054-a696-3b60eda81634",
   "metadata": {},
   "outputs": [],
   "source": []
  }
 ],
 "metadata": {
  "kernelspec": {
   "display_name": "Python 3 (ipykernel)",
   "language": "python",
   "name": "python3"
  },
  "language_info": {
   "codemirror_mode": {
    "name": "ipython",
    "version": 3
   },
   "file_extension": ".py",
   "mimetype": "text/x-python",
   "name": "python",
   "nbconvert_exporter": "python",
   "pygments_lexer": "ipython3",
   "version": "3.11.4"
  }
 },
 "nbformat": 4,
 "nbformat_minor": 5
}
