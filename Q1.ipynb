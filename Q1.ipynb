{
 "cells": [
  {
   "cell_type": "code",
   "execution_count": 1,
   "id": "88558b1c-2de3-40e4-bcc7-daa402c9cd71",
   "metadata": {},
   "outputs": [],
   "source": [
    "a = \"Alok\"\n",
    "b = [1,2,3,\"Alok\",True]\n",
    "c = 2.35\n",
    "d = (1,2,3,\"Alok\", True)"
   ]
  },
  {
   "cell_type": "code",
   "execution_count": null,
   "id": "2e904b69-34ac-4b51-889a-e139155709c8",
   "metadata": {},
   "outputs": [],
   "source": []
  }
 ],
 "metadata": {
  "kernelspec": {
   "display_name": "Python 3 (ipykernel)",
   "language": "python",
   "name": "python3"
  },
  "language_info": {
   "codemirror_mode": {
    "name": "ipython",
    "version": 3
   },
   "file_extension": ".py",
   "mimetype": "text/x-python",
   "name": "python",
   "nbconvert_exporter": "python",
   "pygments_lexer": "ipython3",
   "version": "3.11.4"
  }
 },
 "nbformat": 4,
 "nbformat_minor": 5
}
